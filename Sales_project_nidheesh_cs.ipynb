{
  "nbformat": 4,
  "nbformat_minor": 0,
  "metadata": {
    "colab": {
      "provenance": [],
      "toc_visible": true,
      "authorship_tag": "ABX9TyNPLWKZHAjhpV0fwuasx2vj",
      "include_colab_link": true
    },
    "kernelspec": {
      "name": "python3",
      "display_name": "Python 3"
    },
    "language_info": {
      "name": "python"
    }
  },
  "cells": [
    {
      "cell_type": "markdown",
      "metadata": {
        "id": "view-in-github",
        "colab_type": "text"
      },
      "source": [
        "<a href=\"https://colab.research.google.com/github/nidheeshcsuc/Sales-Data-Analysiz/blob/main/Sales_project_nidheesh_cs.ipynb\" target=\"_parent\"><img src=\"https://colab.research.google.com/assets/colab-badge.svg\" alt=\"Open In Colab\"/></a>"
      ]
    },
    {
      "cell_type": "code",
      "execution_count": 1,
      "metadata": {
        "id": "TsdFsABztr-R",
        "colab": {
          "base_uri": "https://localhost:8080/",
          "height": 356
        },
        "outputId": "d0779539-08e1-4474-8503-aa9cabf94aca"
      },
      "outputs": [
        {
          "output_type": "error",
          "ename": "FileNotFoundError",
          "evalue": "[Errno 2] No such file or directory: 'sales.csv'",
          "traceback": [
            "\u001b[0;31m---------------------------------------------------------------------------\u001b[0m",
            "\u001b[0;31mFileNotFoundError\u001b[0m                         Traceback (most recent call last)",
            "\u001b[0;32m/tmp/ipython-input-2678915431.py\u001b[0m in \u001b[0;36m<cell line: 0>\u001b[0;34m()\u001b[0m\n\u001b[1;32m      4\u001b[0m \u001b[0;32mimport\u001b[0m \u001b[0mseaborn\u001b[0m \u001b[0;32mas\u001b[0m \u001b[0msns\u001b[0m\u001b[0;34m\u001b[0m\u001b[0;34m\u001b[0m\u001b[0m\n\u001b[1;32m      5\u001b[0m \u001b[0;34m\u001b[0m\u001b[0m\n\u001b[0;32m----> 6\u001b[0;31m \u001b[0mdf\u001b[0m \u001b[0;34m=\u001b[0m \u001b[0mpd\u001b[0m\u001b[0;34m.\u001b[0m\u001b[0mread_csv\u001b[0m\u001b[0;34m(\u001b[0m\u001b[0;34m\"sales.csv\"\u001b[0m\u001b[0;34m,\u001b[0m \u001b[0mencoding\u001b[0m \u001b[0;34m=\u001b[0m \u001b[0;34m\"ISO-8859-10\"\u001b[0m\u001b[0;34m)\u001b[0m\u001b[0;34m\u001b[0m\u001b[0;34m\u001b[0m\u001b[0m\n\u001b[0m\u001b[1;32m      7\u001b[0m \u001b[0mdf\u001b[0m\u001b[0;34m\u001b[0m\u001b[0;34m\u001b[0m\u001b[0m\n",
            "\u001b[0;32m/usr/local/lib/python3.11/dist-packages/pandas/io/parsers/readers.py\u001b[0m in \u001b[0;36mread_csv\u001b[0;34m(filepath_or_buffer, sep, delimiter, header, names, index_col, usecols, dtype, engine, converters, true_values, false_values, skipinitialspace, skiprows, skipfooter, nrows, na_values, keep_default_na, na_filter, verbose, skip_blank_lines, parse_dates, infer_datetime_format, keep_date_col, date_parser, date_format, dayfirst, cache_dates, iterator, chunksize, compression, thousands, decimal, lineterminator, quotechar, quoting, doublequote, escapechar, comment, encoding, encoding_errors, dialect, on_bad_lines, delim_whitespace, low_memory, memory_map, float_precision, storage_options, dtype_backend)\u001b[0m\n\u001b[1;32m   1024\u001b[0m     \u001b[0mkwds\u001b[0m\u001b[0;34m.\u001b[0m\u001b[0mupdate\u001b[0m\u001b[0;34m(\u001b[0m\u001b[0mkwds_defaults\u001b[0m\u001b[0;34m)\u001b[0m\u001b[0;34m\u001b[0m\u001b[0;34m\u001b[0m\u001b[0m\n\u001b[1;32m   1025\u001b[0m \u001b[0;34m\u001b[0m\u001b[0m\n\u001b[0;32m-> 1026\u001b[0;31m     \u001b[0;32mreturn\u001b[0m \u001b[0m_read\u001b[0m\u001b[0;34m(\u001b[0m\u001b[0mfilepath_or_buffer\u001b[0m\u001b[0;34m,\u001b[0m \u001b[0mkwds\u001b[0m\u001b[0;34m)\u001b[0m\u001b[0;34m\u001b[0m\u001b[0;34m\u001b[0m\u001b[0m\n\u001b[0m\u001b[1;32m   1027\u001b[0m \u001b[0;34m\u001b[0m\u001b[0m\n\u001b[1;32m   1028\u001b[0m \u001b[0;34m\u001b[0m\u001b[0m\n",
            "\u001b[0;32m/usr/local/lib/python3.11/dist-packages/pandas/io/parsers/readers.py\u001b[0m in \u001b[0;36m_read\u001b[0;34m(filepath_or_buffer, kwds)\u001b[0m\n\u001b[1;32m    618\u001b[0m \u001b[0;34m\u001b[0m\u001b[0m\n\u001b[1;32m    619\u001b[0m     \u001b[0;31m# Create the parser.\u001b[0m\u001b[0;34m\u001b[0m\u001b[0;34m\u001b[0m\u001b[0m\n\u001b[0;32m--> 620\u001b[0;31m     \u001b[0mparser\u001b[0m \u001b[0;34m=\u001b[0m \u001b[0mTextFileReader\u001b[0m\u001b[0;34m(\u001b[0m\u001b[0mfilepath_or_buffer\u001b[0m\u001b[0;34m,\u001b[0m \u001b[0;34m**\u001b[0m\u001b[0mkwds\u001b[0m\u001b[0;34m)\u001b[0m\u001b[0;34m\u001b[0m\u001b[0;34m\u001b[0m\u001b[0m\n\u001b[0m\u001b[1;32m    621\u001b[0m \u001b[0;34m\u001b[0m\u001b[0m\n\u001b[1;32m    622\u001b[0m     \u001b[0;32mif\u001b[0m \u001b[0mchunksize\u001b[0m \u001b[0;32mor\u001b[0m \u001b[0miterator\u001b[0m\u001b[0;34m:\u001b[0m\u001b[0;34m\u001b[0m\u001b[0;34m\u001b[0m\u001b[0m\n",
            "\u001b[0;32m/usr/local/lib/python3.11/dist-packages/pandas/io/parsers/readers.py\u001b[0m in \u001b[0;36m__init__\u001b[0;34m(self, f, engine, **kwds)\u001b[0m\n\u001b[1;32m   1618\u001b[0m \u001b[0;34m\u001b[0m\u001b[0m\n\u001b[1;32m   1619\u001b[0m         \u001b[0mself\u001b[0m\u001b[0;34m.\u001b[0m\u001b[0mhandles\u001b[0m\u001b[0;34m:\u001b[0m \u001b[0mIOHandles\u001b[0m \u001b[0;34m|\u001b[0m \u001b[0;32mNone\u001b[0m \u001b[0;34m=\u001b[0m \u001b[0;32mNone\u001b[0m\u001b[0;34m\u001b[0m\u001b[0;34m\u001b[0m\u001b[0m\n\u001b[0;32m-> 1620\u001b[0;31m         \u001b[0mself\u001b[0m\u001b[0;34m.\u001b[0m\u001b[0m_engine\u001b[0m \u001b[0;34m=\u001b[0m \u001b[0mself\u001b[0m\u001b[0;34m.\u001b[0m\u001b[0m_make_engine\u001b[0m\u001b[0;34m(\u001b[0m\u001b[0mf\u001b[0m\u001b[0;34m,\u001b[0m \u001b[0mself\u001b[0m\u001b[0;34m.\u001b[0m\u001b[0mengine\u001b[0m\u001b[0;34m)\u001b[0m\u001b[0;34m\u001b[0m\u001b[0;34m\u001b[0m\u001b[0m\n\u001b[0m\u001b[1;32m   1621\u001b[0m \u001b[0;34m\u001b[0m\u001b[0m\n\u001b[1;32m   1622\u001b[0m     \u001b[0;32mdef\u001b[0m \u001b[0mclose\u001b[0m\u001b[0;34m(\u001b[0m\u001b[0mself\u001b[0m\u001b[0;34m)\u001b[0m \u001b[0;34m->\u001b[0m \u001b[0;32mNone\u001b[0m\u001b[0;34m:\u001b[0m\u001b[0;34m\u001b[0m\u001b[0;34m\u001b[0m\u001b[0m\n",
            "\u001b[0;32m/usr/local/lib/python3.11/dist-packages/pandas/io/parsers/readers.py\u001b[0m in \u001b[0;36m_make_engine\u001b[0;34m(self, f, engine)\u001b[0m\n\u001b[1;32m   1878\u001b[0m                 \u001b[0;32mif\u001b[0m \u001b[0;34m\"b\"\u001b[0m \u001b[0;32mnot\u001b[0m \u001b[0;32min\u001b[0m \u001b[0mmode\u001b[0m\u001b[0;34m:\u001b[0m\u001b[0;34m\u001b[0m\u001b[0;34m\u001b[0m\u001b[0m\n\u001b[1;32m   1879\u001b[0m                     \u001b[0mmode\u001b[0m \u001b[0;34m+=\u001b[0m \u001b[0;34m\"b\"\u001b[0m\u001b[0;34m\u001b[0m\u001b[0;34m\u001b[0m\u001b[0m\n\u001b[0;32m-> 1880\u001b[0;31m             self.handles = get_handle(\n\u001b[0m\u001b[1;32m   1881\u001b[0m                 \u001b[0mf\u001b[0m\u001b[0;34m,\u001b[0m\u001b[0;34m\u001b[0m\u001b[0;34m\u001b[0m\u001b[0m\n\u001b[1;32m   1882\u001b[0m                 \u001b[0mmode\u001b[0m\u001b[0;34m,\u001b[0m\u001b[0;34m\u001b[0m\u001b[0;34m\u001b[0m\u001b[0m\n",
            "\u001b[0;32m/usr/local/lib/python3.11/dist-packages/pandas/io/common.py\u001b[0m in \u001b[0;36mget_handle\u001b[0;34m(path_or_buf, mode, encoding, compression, memory_map, is_text, errors, storage_options)\u001b[0m\n\u001b[1;32m    871\u001b[0m         \u001b[0;32mif\u001b[0m \u001b[0mioargs\u001b[0m\u001b[0;34m.\u001b[0m\u001b[0mencoding\u001b[0m \u001b[0;32mand\u001b[0m \u001b[0;34m\"b\"\u001b[0m \u001b[0;32mnot\u001b[0m \u001b[0;32min\u001b[0m \u001b[0mioargs\u001b[0m\u001b[0;34m.\u001b[0m\u001b[0mmode\u001b[0m\u001b[0;34m:\u001b[0m\u001b[0;34m\u001b[0m\u001b[0;34m\u001b[0m\u001b[0m\n\u001b[1;32m    872\u001b[0m             \u001b[0;31m# Encoding\u001b[0m\u001b[0;34m\u001b[0m\u001b[0;34m\u001b[0m\u001b[0m\n\u001b[0;32m--> 873\u001b[0;31m             handle = open(\n\u001b[0m\u001b[1;32m    874\u001b[0m                 \u001b[0mhandle\u001b[0m\u001b[0;34m,\u001b[0m\u001b[0;34m\u001b[0m\u001b[0;34m\u001b[0m\u001b[0m\n\u001b[1;32m    875\u001b[0m                 \u001b[0mioargs\u001b[0m\u001b[0;34m.\u001b[0m\u001b[0mmode\u001b[0m\u001b[0;34m,\u001b[0m\u001b[0;34m\u001b[0m\u001b[0;34m\u001b[0m\u001b[0m\n",
            "\u001b[0;31mFileNotFoundError\u001b[0m: [Errno 2] No such file or directory: 'sales.csv'"
          ]
        }
      ],
      "source": [
        "import numpy as np\n",
        "import pandas as pd\n",
        "import matplotlib.pyplot as plt\n",
        "import seaborn as sns\n",
        "\n",
        "df = pd.read_csv(\"sales.csv\", encoding = \"ISO-8859-10\")\n",
        "df"
      ]
    },
    {
      "cell_type": "code",
      "source": [
        "df.info()"
      ],
      "metadata": {
        "id": "jLcsRWupBU_B"
      },
      "execution_count": null,
      "outputs": []
    },
    {
      "cell_type": "code",
      "source": [
        "#fetching null data from Amount col\n",
        "df[df[\"Amount\"].isnull()]\n",
        "df"
      ],
      "metadata": {
        "id": "hIBRZf-SBbmk"
      },
      "execution_count": null,
      "outputs": []
    },
    {
      "cell_type": "code",
      "source": [
        "#removing duplicates from the data\n",
        "df.drop_duplicates(inplace = True)\n",
        "df"
      ],
      "metadata": {
        "id": "oLR8w_qwBhqS"
      },
      "execution_count": null,
      "outputs": []
    },
    {
      "cell_type": "code",
      "source": [
        "#droping the columns named ---> status and unnamed1\n",
        "\n",
        "df = df.drop([\"Status\",\"unnamed1\"],axis = 1)\n",
        "df"
      ],
      "metadata": {
        "id": "zQij7S51BrIr"
      },
      "execution_count": null,
      "outputs": []
    },
    {
      "cell_type": "code",
      "source": [
        "##Delete all nan values from the data frame\n",
        "df.dropna(inplace = True)"
      ],
      "metadata": {
        "id": "BSAoSGs1Diug"
      },
      "execution_count": null,
      "outputs": []
    },
    {
      "cell_type": "code",
      "source": [
        "#rename the column name \"Marital_Status\" to 'Marital'\n",
        "df.rename(columns = {\"Marital_Status\":'Marital'},inplace =True)"
      ],
      "metadata": {
        "id": "kwfoNV-zDsQe"
      },
      "execution_count": null,
      "outputs": []
    },
    {
      "cell_type": "code",
      "source": [
        "df['Marital'].unique()"
      ],
      "metadata": {
        "id": "fAP2MpuMD5lw"
      },
      "execution_count": null,
      "outputs": []
    },
    {
      "cell_type": "code",
      "source": [
        "#change the values of Marital col 0-->single, 1--> married\n",
        "df[\"Marital\"] = df['Marital'].map({0:\"Single\",1:\"Married\"})"
      ],
      "metadata": {
        "id": "bN-IRd1UD8sI"
      },
      "execution_count": null,
      "outputs": []
    },
    {
      "cell_type": "code",
      "source": [
        "# change the values of Gender col F-->Female, M-->Male\n",
        "df[\"Gender\"] = df[\"Gender\"].map({'F':\"Female\",'M':'Male'})\n",
        "df"
      ],
      "metadata": {
        "id": "TESv0PnUEIQZ"
      },
      "execution_count": null,
      "outputs": []
    },
    {
      "cell_type": "code",
      "source": [
        "df.reset_index(inplace = True)"
      ],
      "metadata": {
        "id": "arQ3wq_HEXRO"
      },
      "execution_count": null,
      "outputs": []
    },
    {
      "cell_type": "code",
      "source": [
        "df.drop([\"index\"],axis = 1)"
      ],
      "metadata": {
        "id": "_ODrrdU1EYzC"
      },
      "execution_count": null,
      "outputs": []
    },
    {
      "cell_type": "code",
      "source": [
        "df.drop([\"index\"],axis = 1,inplace = True)"
      ],
      "metadata": {
        "id": "6RqDUy4rEecs"
      },
      "execution_count": null,
      "outputs": []
    },
    {
      "cell_type": "code",
      "source": [
        "df"
      ],
      "metadata": {
        "id": "WJE-9P6apXL7"
      },
      "execution_count": null,
      "outputs": []
    },
    {
      "cell_type": "markdown",
      "source": [],
      "metadata": {
        "id": "afrXvbv-4UQx"
      }
    },
    {
      "cell_type": "code",
      "source": [
        "df.drop([\"index\"],axis = 1,inplace = True)"
      ],
      "metadata": {
        "id": "MUerlqTyEizD"
      },
      "execution_count": null,
      "outputs": []
    },
    {
      "cell_type": "code",
      "source": [
        "df"
      ],
      "metadata": {
        "id": "9dpfJOEGEkRm"
      },
      "execution_count": null,
      "outputs": []
    },
    {
      "cell_type": "code",
      "source": [
        "a = sns.countplot(x=\"Gender\", data=df, palette = 'coolwarm')\n",
        "# Add count labels above bars\n",
        "for i in a.containers:\n",
        "    a.bar_label(i, weight=\"bold\", fontsize=10)\n",
        "\n",
        "\n",
        "# Axis labels\n",
        "plt.title(\"Gender_count\",fontsize = 17)\n",
        "plt.xlabel(\"Gender\", fontsize=12)\n",
        "plt.ylabel(\"Count\", fontsize=12)\n",
        "\n",
        "# Increase tick label font size for \"male\" and \"female\"\n",
        "a.set_xticklabels(a.get_xticklabels(), fontsize=10)\n",
        "\n",
        "plt.show()\n",
        "\n"
      ],
      "metadata": {
        "id": "Uf2cZlMhEnuc"
      },
      "execution_count": null,
      "outputs": []
    },
    {
      "cell_type": "code",
      "source": [
        "#which gender spends more\n",
        "\n",
        "df.groupby(\"Age Group\")[\"Amount\"].sum().sort_values()\n"
      ],
      "metadata": {
        "id": "0UK4JqlPG48S"
      },
      "execution_count": null,
      "outputs": []
    },
    {
      "cell_type": "code",
      "source": [
        "plt.figure(figsize = (10,5))\n",
        "high = df.groupby(\"Age Group\",as_index=False)[\"Amount\"].sum().sort_values(by=\"Amount\",ascending=False)\n",
        "b = sns.barplot(x = 'Age Group',y = \"Amount\",data = high,edgecolor = \"black\"\n",
        ")\n",
        "for i in b.containers:\n",
        "  b.bar_label(i,padding = 23)\n",
        "\n",
        "plt.xlabel (\"Age Group\",fontsize = 12)\n",
        "plt.ylabel (\"Amount\",fontsize = 12)\n",
        "plt.title (\"Amount vs Age Group\",fontsize = 14,weight = \"bold\")\n",
        "plt.tight_layout()\n",
        "sns.despine()\n",
        "plt.show()"
      ],
      "metadata": {
        "id": "qdOrDtd-Hp0D"
      },
      "execution_count": null,
      "outputs": []
    },
    {
      "cell_type": "code",
      "source": [
        "df.info()"
      ],
      "metadata": {
        "id": "N8ZftrVQ_VcE"
      },
      "execution_count": null,
      "outputs": []
    },
    {
      "cell_type": "code",
      "source": [
        "# Finding which gender spends\n",
        "df.groupby(\"Gender\")[\"Amount\"].sum().sort_values().tail(1)\n",
        "#ans ---- females"
      ],
      "metadata": {
        "id": "sQ6E9K-m6UX_"
      },
      "execution_count": null,
      "outputs": []
    },
    {
      "cell_type": "code",
      "source": [
        "high = df.groupby(\"Gender\",as_index=False)[\"Amount\"].sum().sort_values(by = \"Amount\",ascending=False)\n",
        "a = sns.barplot(x =\"Gender\",y =\"Amount\",data = high,palette =['#08306B', '#C6DBEF'],edgecolor = \"black\")\n",
        "for i in a.containers:\n",
        "  a.bar_label(i)\n",
        "\n",
        "plt.title(\"Gender vs Amount\",fontsize = 10,weight = \"bold\")\n",
        "plt.xlabel(\"Gender\",fontsize = 12)\n",
        "plt.ylabel(\"Amount\",fontsize = 12)\n",
        "\n",
        "plt.tight_layout()\n",
        "\n",
        "plt.show()"
      ],
      "metadata": {
        "id": "shxUTKWb_tyd"
      },
      "execution_count": null,
      "outputs": []
    },
    {
      "cell_type": "code",
      "source": [
        "# Which states recorded the highest spending?\n",
        "df.groupby(\"State\")[\"Amount\"].sum().sort_values()\n",
        "# ans  : - Uttar Pradesh\n"
      ],
      "metadata": {
        "id": "-MNwmCiGHxqS"
      },
      "execution_count": null,
      "outputs": []
    },
    {
      "cell_type": "code",
      "source": [
        "#state which spends most\n",
        "top_states = df.groupby(\"State\", as_index=False)[\"Amount\"].sum().sort_values(by=\"Amount\", ascending=False)\n",
        "\n",
        "plt.figure(figsize=(17, 10))\n",
        "palette_14 = sns.color_palette(\"Blues\", 16)[::-1]\n",
        "a = sns.barplot(x=\"State\", y=\"Amount\", data=top_states,palette = palette_14,edgecolor = \"black\")\n",
        "\n",
        "for container in a.containers:\n",
        "    a.bar_label(container, padding=3)\n",
        "\n",
        "plt.xticks(rotation=90)\n",
        "plt.title(\"Total Spending by States\", fontsize=16,weight = \"bold\")\n",
        "plt.xlabel(\"States\", fontsize=16)\n",
        "plt.ylabel(\"Amount\", fontsize=16)\n",
        "\n",
        "plt.tight_layout()\n",
        "sns.despine()\n",
        "plt.show()\n"
      ],
      "metadata": {
        "id": "BLtmHOtUSIf-"
      },
      "execution_count": null,
      "outputs": []
    },
    {
      "cell_type": "code",
      "source": [
        "# Which Product Categories has the highest spending?\n",
        "\n",
        "df.groupby(\"Product_Category\")[\"Amount\"].sum().sort_values().tail(1)\n",
        "\n",
        "#Ans :food"
      ],
      "metadata": {
        "id": "0TuC3JAPSXPL"
      },
      "execution_count": null,
      "outputs": []
    },
    {
      "cell_type": "code",
      "source": [
        "plt.figure(figsize=(26,13))\n",
        "high = df.groupby(\"Product_Category\",as_index=False)[\"Amount\"].sum().sort_values(by = \"Amount\",ascending = False)\n",
        "palette_14 = sns.color_palette(\"Oranges\", 18)[::-1]\n",
        "a = sns.barplot(x = \"Product_Category\",y = \"Amount\",data = high,edgecolor = \"black\",palette= palette_14 )\n",
        "for i in a.containers:\n",
        "  a.bar_label(i)\n",
        "\n",
        "plt.xticks(rotation=90)\n",
        "plt.title(\"most selled product\", fontsize=20,weight = \"bold\")\n",
        "plt.xlabel(\"Product\", fontsize=20)\n",
        "plt.ylabel(\"Amount\", fontsize=20)\n",
        "\n",
        "plt.xticks(fontsize=15)\n",
        "plt.yticks(fontsize=15)\n",
        "\n",
        "plt.tight_layout()\n",
        "sns.despine()\n",
        "plt.show()\n"
      ],
      "metadata": {
        "id": "OTh6zqojBjK3"
      },
      "execution_count": null,
      "outputs": []
    },
    {
      "cell_type": "code",
      "source": [
        "# Which Occupation group spent the most?\n",
        "df.groupby(\"Occupation\")[\"Amount\"].sum().sort_values().tail(1)\n",
        "#IT Sector"
      ],
      "metadata": {
        "id": "QZs0pPB5D7HB"
      },
      "execution_count": null,
      "outputs": []
    },
    {
      "cell_type": "code",
      "source": [
        "plt.figure(figsize=(20, 10))\n",
        "\n",
        "high = df.groupby(\"Occupation\", as_index=False)[\"Amount\"].sum().sort_values(by=\"Amount\", ascending=False)\n",
        "\n",
        "palette_14 = sns.color_palette(\"Reds\", 15)[::-1]\n",
        "\n",
        "b = sns.barplot(x='Occupation', y='Amount', data=high,edgecolor = \"black\")\n",
        "\n",
        "for i in b.containers:\n",
        "    b.bar_label(i, padding=23)\n",
        "\n",
        "plt.xlabel(\"Occupation\", fontsize=15)\n",
        "plt.ylabel(\"Total Spending\", fontsize=15)\n",
        "plt.title(\"Top Occupations by Total Spending\", fontsize=15, weight=\"bold\")\n",
        "\n",
        "plt.tight_layout()\n",
        "sns.despine()\n",
        "plt.show()\n"
      ],
      "metadata": {
        "id": "v7VenA51HeOc"
      },
      "execution_count": null,
      "outputs": []
    },
    {
      "cell_type": "code",
      "source": [
        "# Married or single who spends more?\n",
        "df.groupby(\"Marital\")[\"Amount\"].sum().sort_values().tail(1)\n"
      ],
      "metadata": {
        "id": "2QTYsVsBK97g"
      },
      "execution_count": null,
      "outputs": []
    },
    {
      "cell_type": "code",
      "source": [
        "df[Zone]"
      ],
      "metadata": {
        "id": "91X9xqXWQRO6"
      },
      "execution_count": null,
      "outputs": []
    },
    {
      "cell_type": "code",
      "source": [
        "#@title   which zone spends most?\n",
        "df.groupby('Zone')['Amount'].sum().sort_values().tail(1)\n",
        "# cental zone spends most\n",
        "df"
      ],
      "metadata": {
        "id": "t6cauHXdRK57"
      },
      "execution_count": null,
      "outputs": []
    },
    {
      "cell_type": "markdown",
      "source": [],
      "metadata": {
        "id": "jpA9l1L38OD6"
      }
    },
    {
      "cell_type": "code",
      "source": [
        "Conclusion\n",
        "\n",
        "Overall, women show higher spending patterns compared to men.\n",
        "\n",
        "Individuals aged between 26 and 35 are the top contributors to total sales.\n",
        "\n",
        "Among all states, Uttar Pradesh records the highest number of purchases.\n",
        "\n",
        "Consumers working in the IT industry exhibit higher spending behavior.\n",
        "\n",
        "The food category leads in total sales volume across all products.\n",
        "\n",
        "Single individuals appear to make more purch"
      ],
      "metadata": {
        "id": "sOXk0JFiTYGq"
      },
      "execution_count": null,
      "outputs": []
    }
  ]
}